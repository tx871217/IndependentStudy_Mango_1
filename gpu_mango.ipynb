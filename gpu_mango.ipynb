{
  "nbformat": 4,
  "nbformat_minor": 0,
  "metadata": {
    "colab": {
      "name": "gpu_mango.ipynb",
      "provenance": [],
      "collapsed_sections": [
        "X-aKqrTQ19Ju",
        "cG83-VB2E-pX",
        "yth_5OE3_re0",
        "VubVWId2kvHQ",
        "C1J_W4BvLBsM",
        "bOEn7wMj9f5R",
        "ZKLtBuJaE3-s",
        "jmrs6-jHLYAN",
        "ArqWKKH7HsZs"
      ],
      "include_colab_link": true
    },
    "kernelspec": {
      "name": "python3",
      "display_name": "Python 3"
    },
    "accelerator": "GPU"
  },
  "cells": [
    {
      "cell_type": "markdown",
      "metadata": {
        "id": "view-in-github",
        "colab_type": "text"
      },
      "source": [
        "<a href=\"https://colab.research.google.com/github/tx871217/IndependentStudy_Mango_1/blob/master/gpu_mango.ipynb\" target=\"_parent\"><img src=\"https://colab.research.google.com/assets/colab-badge.svg\" alt=\"Open In Colab\"/></a>"
      ]
    },
    {
      "cell_type": "code",
      "metadata": {
        "id": "OvUZJpj0nF-h",
        "colab_type": "code",
        "colab": {
          "base_uri": "https://localhost:8080/",
          "height": 121
        },
        "outputId": "88fbb5cb-4576-4672-e3d6-556b4578b3c8"
      },
      "source": [
        "from google.colab import drive\n",
        "drive.mount('/content/drive')"
      ],
      "execution_count": null,
      "outputs": [
        {
          "output_type": "stream",
          "text": [
            "Go to this URL in a browser: https://accounts.google.com/o/oauth2/auth?client_id=947318989803-6bn6qk8qdgf4n4g3pfee6491hc0brc4i.apps.googleusercontent.com&redirect_uri=urn%3aietf%3awg%3aoauth%3a2.0%3aoob&response_type=code&scope=email%20https%3a%2f%2fwww.googleapis.com%2fauth%2fdocs.test%20https%3a%2f%2fwww.googleapis.com%2fauth%2fdrive%20https%3a%2f%2fwww.googleapis.com%2fauth%2fdrive.photos.readonly%20https%3a%2f%2fwww.googleapis.com%2fauth%2fpeopleapi.readonly\n",
            "\n",
            "Enter your authorization code:\n",
            "··········\n",
            "Mounted at /content/drive\n"
          ],
          "name": "stdout"
        }
      ]
    },
    {
      "cell_type": "code",
      "metadata": {
        "colab_type": "code",
        "id": "fGWyonbacx15",
        "colab": {
          "base_uri": "https://localhost:8080/",
          "height": 67
        },
        "outputId": "1cfe2cd3-6ecd-4556-bf2a-6ba4b536be7a"
      },
      "source": [
        "# image preprocessing\n",
        "from keras.preprocessing.image import ImageDataGenerator\n",
        "\n",
        "train_datagen = ImageDataGenerator(rescale=1./255,\n",
        "                                   shear_range=0.2,\n",
        "                                   zoom_range=0.2,\n",
        "                                   width_shift_range=0.2,\n",
        "                                   height_shift_range=0.2,\n",
        "                                   rotation_range=45,\n",
        "                                   horizontal_flip=True,\n",
        "                                   vertical_flip=True,\n",
        "                                   fill_mode='nearest')\n",
        "\n",
        "valid_datagen = ImageDataGenerator(rescale=1./255)\n",
        "\n",
        "batch_size = 32\n",
        "input_size = 224\n",
        "base_dir = \"/content/drive/My Drive/data_hand\"\n",
        "\n",
        "training_set = train_datagen.flow_from_directory(base_dir+'/train',\n",
        "                                                 target_size=(input_size, input_size),\n",
        "                                                 batch_size=batch_size,\n",
        "                                                 class_mode='categorical')\n",
        "\n",
        "valid_set = valid_datagen.flow_from_directory(base_dir+'/test',\n",
        "                                            target_size=(input_size, input_size),\n",
        "                                            batch_size=batch_size,\n",
        "                                            class_mode='categorical')"
      ],
      "execution_count": null,
      "outputs": [
        {
          "output_type": "stream",
          "text": [
            "Using TensorFlow backend.\n"
          ],
          "name": "stderr"
        },
        {
          "output_type": "stream",
          "text": [
            "Found 618 images belonging to 6 classes.\n",
            "Found 30 images belonging to 6 classes.\n"
          ],
          "name": "stdout"
        }
      ]
    },
    {
      "cell_type": "code",
      "metadata": {
        "colab_type": "code",
        "id": "6NA-bNOMgyKb",
        "colab": {
          "base_uri": "https://localhost:8080/",
          "height": 67
        },
        "outputId": "f3f6663e-264d-4ccf-8aa6-887cebe46638"
      },
      "source": [
        "# image preprocessing\n",
        "from keras.preprocessing.image import ImageDataGenerator\n",
        "\n",
        "train_datagen = ImageDataGenerator(rescale=1./255,\n",
        "                                   shear_range=0.2,\n",
        "                                   zoom_range=0.2,\n",
        "                                   width_shift_range=0.2,\n",
        "                                   height_shift_range=0.2,\n",
        "                                   rotation_range=45,\n",
        "                                   horizontal_flip=True,\n",
        "                                   vertical_flip=True,\n",
        "                                   fill_mode='nearest')\n",
        "\n",
        "valid_datagen = ImageDataGenerator(rescale=1./255)\n",
        "\n",
        "batch_size = 32\n",
        "input_size = 224\n",
        "base_dir = \"/content/drive/My Drive/mango_for_EFN\"\n",
        "\n",
        "training_set = train_datagen.flow_from_directory(base_dir+'/Train',\n",
        "                                                 target_size=(input_size, input_size),\n",
        "                                                 batch_size=batch_size,\n",
        "                                                 class_mode='categorical')\n",
        "\n",
        "valid_set = valid_datagen.flow_from_directory(base_dir+'/Dev',\n",
        "                                            target_size=(input_size, input_size),\n",
        "                                            batch_size=batch_size,\n",
        "                                            class_mode='categorical')"
      ],
      "execution_count": null,
      "outputs": [
        {
          "output_type": "stream",
          "text": [
            "Using TensorFlow backend.\n"
          ],
          "name": "stderr"
        },
        {
          "output_type": "stream",
          "text": [
            "Found 5610 images belonging to 3 classes.\n",
            "Found 800 images belonging to 3 classes.\n"
          ],
          "name": "stdout"
        }
      ]
    },
    {
      "cell_type": "code",
      "metadata": {
        "colab_type": "code",
        "id": "AuJucHtmCHH8",
        "colab": {
          "base_uri": "https://localhost:8080/",
          "height": 67
        },
        "outputId": "3c1efbac-8778-4031-8e7a-5de8356adfcd"
      },
      "source": [
        "# image preprocessing\n",
        "from keras.preprocessing.image import ImageDataGenerator\n",
        "\n",
        "train_datagen = ImageDataGenerator(rescale=1./255,\n",
        "                                   shear_range=0.2,\n",
        "                                   zoom_range=0.2,\n",
        "                                   width_shift_range=0.2,\n",
        "                                   height_shift_range=0.2,\n",
        "                                   fill_mode='nearest')\n",
        "\n",
        "valid_datagen = ImageDataGenerator(rescale=1./255)\n",
        "\n",
        "batch_size = 32\n",
        "base_dir = \"/content/drive/My Drive\"\n",
        "\n",
        "training_set_new = train_datagen.flow_from_directory(base_dir+'/train',\n",
        "                                                 target_size=(256, 256),\n",
        "                                                 batch_size=batch_size,\n",
        "                                                 class_mode='categorical')\n",
        "\n",
        "valid_set_new = valid_datagen.flow_from_directory(base_dir+'/mango_gan/Dev',\n",
        "                                            target_size=(256, 256),\n",
        "                                            batch_size=batch_size,\n",
        "                                            class_mode='categorical')"
      ],
      "execution_count": null,
      "outputs": [
        {
          "output_type": "stream",
          "text": [
            "Using TensorFlow backend.\n"
          ],
          "name": "stderr"
        },
        {
          "output_type": "stream",
          "text": [
            "Found 5591 images belonging to 3 classes.\n",
            "Found 800 images belonging to 3 classes.\n"
          ],
          "name": "stdout"
        }
      ]
    },
    {
      "cell_type": "code",
      "metadata": {
        "colab_type": "code",
        "id": "1FjOjldWBbo5",
        "colab": {
          "base_uri": "https://localhost:8080/",
          "height": 67
        },
        "outputId": "f049968b-b610-48e8-8a8e-01c7ed8c2e5e"
      },
      "source": [
        "# image preprocessing\n",
        "from keras.preprocessing.image import ImageDataGenerator\n",
        "\n",
        "train_datagen = ImageDataGenerator(rescale=1./255,\n",
        "                                   shear_range=0.2,\n",
        "                                   zoom_range=0.2,\n",
        "                                   width_shift_range=0.2,\n",
        "                                   height_shift_range=0.2,\n",
        "                                   rotation_range=45,\n",
        "                                   horizontal_flip=True,\n",
        "                                   vertical_flip=True,\n",
        "                                   fill_mode='nearest')\n",
        "\n",
        "valid_datagen = ImageDataGenerator(rescale=1./255)\n",
        "input_size = 256\n",
        "batch_size = 32\n",
        "base_dir = \"/content/drive/My Drive/org_and_nobackCyGan\"#cycleganed2\"\n",
        "\n",
        "training_set_gan2 = train_datagen.flow_from_directory(base_dir+'/Train',\n",
        "                                                 target_size=(input_size, input_size),\n",
        "                                                 batch_size=batch_size,\n",
        "                                                 class_mode='categorical')\n",
        "\n",
        "valid_set_gan2 = valid_datagen.flow_from_directory(base_dir+'/Dev',\n",
        "                                            target_size=(input_size, input_size),\n",
        "                                            batch_size=batch_size,\n",
        "                                            class_mode='categorical')"
      ],
      "execution_count": null,
      "outputs": [
        {
          "output_type": "stream",
          "text": [
            "Using TensorFlow backend.\n"
          ],
          "name": "stderr"
        },
        {
          "output_type": "stream",
          "text": [
            "Found 10307 images belonging to 3 classes.\n",
            "Found 800 images belonging to 3 classes.\n"
          ],
          "name": "stdout"
        }
      ]
    },
    {
      "cell_type": "code",
      "metadata": {
        "colab_type": "code",
        "id": "xSdb5nZeXMCI",
        "colab": {
          "base_uri": "https://localhost:8080/",
          "height": 50
        },
        "outputId": "1bfc576c-bdf0-4e60-97a1-50828d0c1cc3"
      },
      "source": [
        "# image preprocessing\n",
        "from keras.preprocessing.image import ImageDataGenerator\n",
        "\n",
        "train_datagen = ImageDataGenerator(rescale=1./255,\n",
        "                                   shear_range=0.2,\n",
        "                                   zoom_range=0.2,\n",
        "                                   width_shift_range=0.2,\n",
        "                                   height_shift_range=0.2,\n",
        "                                   fill_mode='nearest')\n",
        "\n",
        "valid_datagen = ImageDataGenerator(rescale=1./255)\n",
        "\n",
        "batch_size = 32\n",
        "base_dir = \"/content/drive/My Drive/img\"#cycleganed2\"\n",
        "\n",
        "training_set_noback = train_datagen.flow_from_directory(base_dir+'/Train',\n",
        "                                                 target_size=(256, 256),\n",
        "                                                 batch_size=batch_size,\n",
        "                                                 class_mode='categorical')\n",
        "\n",
        "valid_set_noback = valid_datagen.flow_from_directory(base_dir+'/Dev',\n",
        "                                            target_size=(256, 256),\n",
        "                                            batch_size=batch_size,\n",
        "                                            class_mode='categorical')"
      ],
      "execution_count": null,
      "outputs": [
        {
          "output_type": "stream",
          "text": [
            "Found 5600 images belonging to 3 classes.\n",
            "Found 800 images belonging to 3 classes.\n"
          ],
          "name": "stdout"
        }
      ]
    },
    {
      "cell_type": "markdown",
      "metadata": {
        "id": "X-aKqrTQ19Ju",
        "colab_type": "text"
      },
      "source": [
        "# old"
      ]
    },
    {
      "cell_type": "code",
      "metadata": {
        "id": "_jARQ7cy_F3k",
        "colab_type": "code",
        "colab": {
          "base_uri": "https://localhost:8080/",
          "height": 958
        },
        "outputId": "69e84558-03d5-4824-82df-6a99b6332946"
      },
      "source": [
        "from tensorflow.python.keras.models import Sequential\n",
        "from tensorflow.python.keras.layers import Convolution2D\n",
        "from tensorflow.python.keras.layers import MaxPooling2D\n",
        "from tensorflow.python.keras.layers import Flatten\n",
        "from tensorflow.python.keras.layers import Dense\n",
        "from tensorflow.python.keras.layers import Dropout\n",
        "from tensorflow.python.keras.layers.normalization import BatchNormalization\n",
        "\n",
        "classifier = Sequential()\n",
        "\n",
        "classifier.add(Convolution2D(96, 11, strides = (4, 4), padding = 'valid', input_shape=(224, 224, 3), activation = 'relu'))\n",
        "\n",
        "classifier.add(MaxPooling2D(pool_size = (2, 2), strides = (2, 2), padding = 'valid'))\n",
        "classifier.add(BatchNormalization())\n",
        "\n",
        "classifier.add(Convolution2D(256, 11, strides = (1, 1), padding='valid', activation = 'relu'))\n",
        "\n",
        "classifier.add(MaxPooling2D(pool_size = (2, 2), strides = (2, 2), padding='valid'))\n",
        "classifier.add(BatchNormalization())\n",
        "\n",
        "classifier.add(Convolution2D(384, 3, strides = (1, 1), padding='valid', activation = 'relu'))\n",
        "classifier.add(BatchNormalization())\n",
        "\n",
        "classifier.add(Convolution2D(384, 3, strides = (1, 1), padding='valid', activation = 'relu'))\n",
        "classifier.add(BatchNormalization())\n",
        "\n",
        "classifier.add(Convolution2D(256, 3, strides=(1,1), padding='valid', activation = 'relu'))\n",
        "\n",
        "classifier.add(MaxPooling2D(pool_size = (2, 2), strides = (2, 2), padding = 'valid'))\n",
        "classifier.add(BatchNormalization())\n",
        "\n",
        "classifier.add(Flatten())\n",
        "\n",
        "classifier.add(Dense(units = 4096, activation = 'relu'))\n",
        "classifier.add(Dropout(0.4))\n",
        "classifier.add(BatchNormalization())\n",
        "classifier.add(Dense(units = 4096, activation = 'relu'))\n",
        "classifier.add(Dropout(0.4))\n",
        "classifier.add(BatchNormalization())\n",
        "classifier.add(Dense(units = 1000, activation = 'relu'))\n",
        "classifier.add(Dropout(0.2))\n",
        "classifier.add(BatchNormalization())\n",
        "classifier.add(Dense(units = 3, activation = 'softmax'))\n",
        "classifier.summary()"
      ],
      "execution_count": null,
      "outputs": [
        {
          "output_type": "stream",
          "text": [
            "Model: \"sequential_1\"\n",
            "_________________________________________________________________\n",
            "Layer (type)                 Output Shape              Param #   \n",
            "=================================================================\n",
            "conv2d_5 (Conv2D)            (None, 54, 54, 96)        34944     \n",
            "_________________________________________________________________\n",
            "max_pooling2d_3 (MaxPooling2 (None, 27, 27, 96)        0         \n",
            "_________________________________________________________________\n",
            "batch_normalization_8 (Batch (None, 27, 27, 96)        384       \n",
            "_________________________________________________________________\n",
            "conv2d_6 (Conv2D)            (None, 17, 17, 256)       2973952   \n",
            "_________________________________________________________________\n",
            "max_pooling2d_4 (MaxPooling2 (None, 8, 8, 256)         0         \n",
            "_________________________________________________________________\n",
            "batch_normalization_9 (Batch (None, 8, 8, 256)         1024      \n",
            "_________________________________________________________________\n",
            "conv2d_7 (Conv2D)            (None, 6, 6, 384)         885120    \n",
            "_________________________________________________________________\n",
            "batch_normalization_10 (Batc (None, 6, 6, 384)         1536      \n",
            "_________________________________________________________________\n",
            "conv2d_8 (Conv2D)            (None, 4, 4, 384)         1327488   \n",
            "_________________________________________________________________\n",
            "batch_normalization_11 (Batc (None, 4, 4, 384)         1536      \n",
            "_________________________________________________________________\n",
            "conv2d_9 (Conv2D)            (None, 2, 2, 256)         884992    \n",
            "_________________________________________________________________\n",
            "max_pooling2d_5 (MaxPooling2 (None, 1, 1, 256)         0         \n",
            "_________________________________________________________________\n",
            "batch_normalization_12 (Batc (None, 1, 1, 256)         1024      \n",
            "_________________________________________________________________\n",
            "flatten_1 (Flatten)          (None, 256)               0         \n",
            "_________________________________________________________________\n",
            "dense_4 (Dense)              (None, 4096)              1052672   \n",
            "_________________________________________________________________\n",
            "dropout_3 (Dropout)          (None, 4096)              0         \n",
            "_________________________________________________________________\n",
            "batch_normalization_13 (Batc (None, 4096)              16384     \n",
            "_________________________________________________________________\n",
            "dense_5 (Dense)              (None, 4096)              16781312  \n",
            "_________________________________________________________________\n",
            "dropout_4 (Dropout)          (None, 4096)              0         \n",
            "_________________________________________________________________\n",
            "batch_normalization_14 (Batc (None, 4096)              16384     \n",
            "_________________________________________________________________\n",
            "dense_6 (Dense)              (None, 1000)              4097000   \n",
            "_________________________________________________________________\n",
            "dropout_5 (Dropout)          (None, 1000)              0         \n",
            "_________________________________________________________________\n",
            "batch_normalization_15 (Batc (None, 1000)              4000      \n",
            "_________________________________________________________________\n",
            "dense_7 (Dense)              (None, 3)                 3003      \n",
            "=================================================================\n",
            "Total params: 28,082,755\n",
            "Trainable params: 28,061,619\n",
            "Non-trainable params: 21,136\n",
            "_________________________________________________________________\n"
          ],
          "name": "stdout"
        }
      ]
    },
    {
      "cell_type": "code",
      "metadata": {
        "id": "nMdGZ-OJhoar",
        "colab_type": "code",
        "colab": {
          "base_uri": "https://localhost:8080/",
          "height": 349
        },
        "outputId": "cc50bb59-573a-42ad-9565-911018417242"
      },
      "source": [
        "from tensorflow.python.keras.models import Sequential\n",
        "from tensorflow.python.keras.layers import Convolution2D\n",
        "from tensorflow.python.keras.layers import MaxPooling2D,GlobalAveragePooling2D\n",
        "from tensorflow.python.keras.layers import Flatten\n",
        "from tensorflow.python.keras.layers import Dense\n",
        "from tensorflow.python.keras.layers import Dropout\n",
        "from tensorflow.python.keras.layers.normalization import BatchNormalization\n",
        "from tensorflow.python.keras.applications.densenet import DenseNet121\n",
        "\n",
        "model = Sequential()\n",
        "model.add(DenseNet121(input_shape=(224,224,3),\n",
        "                           include_top=False,\n",
        "                           weights='imagenet'))\n",
        "model.add(GlobalAveragePooling2D())\n",
        "model.add(BatchNormalization())\n",
        "\n",
        "\n",
        "# classifier.add(Dense(units = 1024, activation = 'relu'))\n",
        "# classifier.add(Dropout(0.2))\n",
        "# classifier.add(BatchNormalization())\n",
        "model.add(Dense(units = 3, activation = 'softmax'))\n",
        "model.summary()"
      ],
      "execution_count": null,
      "outputs": [
        {
          "output_type": "stream",
          "text": [
            "Downloading data from https://storage.googleapis.com/tensorflow/keras-applications/densenet/densenet121_weights_tf_dim_ordering_tf_kernels_notop.h5\n",
            "29089792/29084464 [==============================] - 1s 0us/step\n",
            "Model: \"sequential\"\n",
            "_________________________________________________________________\n",
            "Layer (type)                 Output Shape              Param #   \n",
            "=================================================================\n",
            "densenet121 (Model)          (None, 7, 7, 1024)        7037504   \n",
            "_________________________________________________________________\n",
            "global_average_pooling2d (Gl (None, 1024)              0         \n",
            "_________________________________________________________________\n",
            "batch_normalization_72 (Batc (None, 1024)              4096      \n",
            "_________________________________________________________________\n",
            "dense (Dense)                (None, 3)                 3075      \n",
            "=================================================================\n",
            "Total params: 7,044,675\n",
            "Trainable params: 6,958,979\n",
            "Non-trainable params: 85,696\n",
            "_________________________________________________________________\n"
          ],
          "name": "stdout"
        }
      ]
    },
    {
      "cell_type": "markdown",
      "metadata": {
        "id": "cG83-VB2E-pX",
        "colab_type": "text"
      },
      "source": [
        "# EfficientNet"
      ]
    },
    {
      "cell_type": "code",
      "metadata": {
        "id": "-v84gLpI_4Lp",
        "colab_type": "code",
        "colab": {
          "base_uri": "https://localhost:8080/",
          "height": 35
        },
        "outputId": "ef428755-e653-488a-c265-5fce771f9f38"
      },
      "source": [
        "# !git clone https://github.com/Tony607/efficientnet_keras_transfer_learning\n",
        "# !unzip \"/content/efficientnet_keras_transfer_learning-master1.zip\"\n",
        "# %cd efficientnet_keras_transfer_learning-master/\n",
        "cd \"/content/drive/My Drive/efficientnet_keras_transfer_learning-master/\""
      ],
      "execution_count": null,
      "outputs": [
        {
          "output_type": "stream",
          "text": [
            "/content/drive/My Drive/efficientnet_keras_transfer_learning-master\n"
          ],
          "name": "stdout"
        }
      ]
    },
    {
      "cell_type": "code",
      "metadata": {
        "id": "1JAMNEgD_7Yl",
        "colab_type": "code",
        "colab": {}
      },
      "source": [
        "# Options: EfficientNetB0, EfficientNetB1, EfficientNetB2, EfficientNetB3\n",
        "# Higher the number, the more complex the model is.\n",
        "from efficientnet import EfficientNetB0 as Net\n",
        "from efficientnet import center_crop_and_resize, preprocess_input\n",
        "\n",
        "# loading pretrained conv base model\n",
        "conv_base = Net(weights=\"imagenet\",\n",
        "                include_top=False,\n",
        "                input_shape=(224,224,3))"
      ],
      "execution_count": null,
      "outputs": []
    },
    {
      "cell_type": "code",
      "metadata": {
        "id": "BZrrTHqYEtvQ",
        "colab_type": "code",
        "colab": {
          "base_uri": "https://localhost:8080/",
          "height": 286
        },
        "outputId": "3c150d05-dc9f-41bd-9d3b-e48e91c57769"
      },
      "source": [
        "from tensorflow.keras import models\n",
        "from tensorflow.keras import layers\n",
        "\n",
        "dropout_rate = 0.2\n",
        "model = models.Sequential()\n",
        "model.add(conv_base)\n",
        "model.add(layers.GlobalMaxPooling2D(name=\"gap\"))\n",
        "# model.add(layers.Flatten(name=\"flatten\"))\n",
        "if dropout_rate > 0:\n",
        "    model.add(layers.Dropout(dropout_rate, name=\"dropout_out\"))\n",
        "# model.add(layers.Dense(256, activation='relu', name=\"fc1\"))\n",
        "model.add(layers.Dense(3, activation=\"softmax\", name=\"fc_out\"))\n",
        "model.summary()"
      ],
      "execution_count": null,
      "outputs": [
        {
          "output_type": "stream",
          "text": [
            "Model: \"sequential\"\n",
            "_________________________________________________________________\n",
            "Layer (type)                 Output Shape              Param #   \n",
            "=================================================================\n",
            "efficientnet-b3 (Model)      (None, 10, 10, 1536)      10783528  \n",
            "_________________________________________________________________\n",
            "gap (GlobalMaxPooling2D)     (None, 1536)              0         \n",
            "_________________________________________________________________\n",
            "dropout_out (Dropout)        (None, 1536)              0         \n",
            "_________________________________________________________________\n",
            "fc_out (Dense)               (None, 3)                 4611      \n",
            "=================================================================\n",
            "Total params: 10,788,139\n",
            "Trainable params: 10,700,843\n",
            "Non-trainable params: 87,296\n",
            "_________________________________________________________________\n"
          ],
          "name": "stdout"
        }
      ]
    },
    {
      "cell_type": "code",
      "metadata": {
        "id": "lCTWAnJ5E0Se",
        "colab_type": "code",
        "colab": {}
      },
      "source": [
        "conv_base.trainable = False"
      ],
      "execution_count": null,
      "outputs": []
    },
    {
      "cell_type": "code",
      "metadata": {
        "id": "nf-02wXwGkXy",
        "colab_type": "code",
        "colab": {}
      },
      "source": [
        "# from tensorflow.keras.utils import plot_model\n",
        "# plot_model(conv_base, to_file='conv_base.png', show_shapes=True)\n",
        "# from IPython.display import Image\n",
        "# Image(filename='conv_base.png') "
      ],
      "execution_count": null,
      "outputs": []
    },
    {
      "cell_type": "markdown",
      "metadata": {
        "id": "yth_5OE3_re0",
        "colab_type": "text"
      },
      "source": [
        "# EFN7"
      ]
    },
    {
      "cell_type": "code",
      "metadata": {
        "id": "0EO0ovucAEOP",
        "colab_type": "code",
        "colab": {}
      },
      "source": [
        "!pip install -q efficientnet"
      ],
      "execution_count": null,
      "outputs": []
    },
    {
      "cell_type": "code",
      "metadata": {
        "id": "EARJMwPd_vek",
        "colab_type": "code",
        "colab": {
          "base_uri": "https://localhost:8080/",
          "height": 252
        },
        "outputId": "e75ca878-570d-48d0-fe04-034faf3046dc"
      },
      "source": [
        "import efficientnet.tfkeras as efn\n",
        "import tensorflow.keras.layers as L\n",
        "import tensorflow as tf\n",
        "\n",
        "model = tf.keras.Sequential([efn.EfficientNetB7(input_shape=(360, 360, 3),\n",
        "                                                    weights='imagenet',\n",
        "                                                    include_top=False),\n",
        "                             L.GlobalAveragePooling2D(),\n",
        "                            #  L.Dropout(0.2),\n",
        "                            #  L.BatchNormalization(),\n",
        "                            #  L.Dense(units = 1024, activation = 'relu')\n",
        "                            #  L.Dropout(0.2)\n",
        "                            #  L.BatchNormalization()\n",
        "                             L.Dense(3,activation='softmax')])\n",
        "\n",
        "model.compile(optimizer='adam',\n",
        "              loss = 'categorical_crossentropy',\n",
        "              metrics=['categorical_accuracy'])\n",
        "\n",
        "model.summary()"
      ],
      "execution_count": null,
      "outputs": [
        {
          "output_type": "stream",
          "text": [
            "Model: \"sequential_11\"\n",
            "_________________________________________________________________\n",
            "Layer (type)                 Output Shape              Param #   \n",
            "=================================================================\n",
            "efficientnet-b7 (Model)      (None, 12, 12, 2560)      64097680  \n",
            "_________________________________________________________________\n",
            "global_average_pooling2d_11  (None, 2560)              0         \n",
            "_________________________________________________________________\n",
            "dense_11 (Dense)             (None, 3)                 7683      \n",
            "=================================================================\n",
            "Total params: 64,105,363\n",
            "Trainable params: 63,794,643\n",
            "Non-trainable params: 310,720\n",
            "_________________________________________________________________\n"
          ],
          "name": "stdout"
        }
      ]
    },
    {
      "cell_type": "code",
      "metadata": {
        "id": "egByL022AcYl",
        "colab_type": "code",
        "colab": {
          "base_uri": "https://localhost:8080/",
          "height": 1000
        },
        "outputId": "5675264b-7cc2-4c70-c26a-de9f007ed7d3"
      },
      "source": [
        "history = model.fit(training_set,\n",
        "                    epochs=50,\n",
        "                    # callbacks=[lr_schedule],\n",
        "                    steps_per_epoch=50,\n",
        "                    validation_data=valid_set,\n",
        "                    validation_steps=valid_set.samples//batch_size)"
      ],
      "execution_count": null,
      "outputs": [
        {
          "output_type": "stream",
          "text": [
            "Epoch 1/50\n",
            "50/50 [==============================] - 53s 1s/step - loss: 1.4564 - categorical_accuracy: 0.4080 - val_loss: 6.5108 - val_categorical_accuracy: 0.2387\n",
            "Epoch 2/50\n",
            "50/50 [==============================] - 49s 989ms/step - loss: 1.2115 - categorical_accuracy: 0.4720 - val_loss: 1.1235 - val_categorical_accuracy: 0.3650\n",
            "Epoch 3/50\n",
            "50/50 [==============================] - 49s 985ms/step - loss: 1.0844 - categorical_accuracy: 0.4880 - val_loss: 8.0053 - val_categorical_accuracy: 0.3212\n",
            "Epoch 4/50\n",
            "50/50 [==============================] - 49s 989ms/step - loss: 0.9262 - categorical_accuracy: 0.5200 - val_loss: 1.0477 - val_categorical_accuracy: 0.5325\n",
            "Epoch 5/50\n",
            "50/50 [==============================] - 50s 995ms/step - loss: 0.9604 - categorical_accuracy: 0.5360 - val_loss: 0.6803 - val_categorical_accuracy: 0.7088\n",
            "Epoch 6/50\n",
            "50/50 [==============================] - 50s 993ms/step - loss: 0.8986 - categorical_accuracy: 0.5680 - val_loss: 0.6959 - val_categorical_accuracy: 0.6787\n",
            "Epoch 7/50\n",
            "50/50 [==============================] - 50s 991ms/step - loss: 0.8542 - categorical_accuracy: 0.6360 - val_loss: 0.6245 - val_categorical_accuracy: 0.7425\n",
            "Epoch 8/50\n",
            "50/50 [==============================] - 49s 988ms/step - loss: 0.8752 - categorical_accuracy: 0.6240 - val_loss: 1.9077 - val_categorical_accuracy: 0.5063\n",
            "Epoch 9/50\n",
            "50/50 [==============================] - 50s 992ms/step - loss: 0.8773 - categorical_accuracy: 0.6040 - val_loss: 0.7517 - val_categorical_accuracy: 0.6975\n",
            "Epoch 10/50\n",
            "50/50 [==============================] - 49s 983ms/step - loss: 0.8483 - categorical_accuracy: 0.6280 - val_loss: 1.1066 - val_categorical_accuracy: 0.5587\n",
            "Epoch 11/50\n",
            "50/50 [==============================] - 50s 991ms/step - loss: 0.8058 - categorical_accuracy: 0.6400 - val_loss: 0.8525 - val_categorical_accuracy: 0.6825\n",
            "Epoch 12/50\n",
            "50/50 [==============================] - 49s 990ms/step - loss: 0.8064 - categorical_accuracy: 0.6000 - val_loss: 1.9519 - val_categorical_accuracy: 0.5312\n",
            "Epoch 13/50\n",
            "50/50 [==============================] - 49s 986ms/step - loss: 0.9429 - categorical_accuracy: 0.5800 - val_loss: 0.6701 - val_categorical_accuracy: 0.6888\n",
            "Epoch 14/50\n",
            "50/50 [==============================] - 49s 988ms/step - loss: 0.8939 - categorical_accuracy: 0.5640 - val_loss: 1.5155 - val_categorical_accuracy: 0.5100\n",
            "Epoch 15/50\n",
            "50/50 [==============================] - 49s 982ms/step - loss: 0.8431 - categorical_accuracy: 0.5960 - val_loss: 0.5379 - val_categorical_accuracy: 0.7763\n",
            "Epoch 16/50\n",
            "50/50 [==============================] - 49s 985ms/step - loss: 0.8797 - categorical_accuracy: 0.5880 - val_loss: 0.7492 - val_categorical_accuracy: 0.6425\n",
            "Epoch 17/50\n",
            "50/50 [==============================] - 49s 986ms/step - loss: 0.8172 - categorical_accuracy: 0.6360 - val_loss: 0.8111 - val_categorical_accuracy: 0.6812\n",
            "Epoch 18/50\n",
            "50/50 [==============================] - 49s 983ms/step - loss: 0.8574 - categorical_accuracy: 0.6160 - val_loss: 0.7277 - val_categorical_accuracy: 0.6963\n",
            "Epoch 19/50\n",
            "50/50 [==============================] - 49s 982ms/step - loss: 0.7886 - categorical_accuracy: 0.6680 - val_loss: 0.6047 - val_categorical_accuracy: 0.7588\n",
            "Epoch 20/50\n",
            "50/50 [==============================] - 49s 979ms/step - loss: 0.7222 - categorical_accuracy: 0.6880 - val_loss: 0.5649 - val_categorical_accuracy: 0.7613\n",
            "Epoch 21/50\n",
            "50/50 [==============================] - 49s 985ms/step - loss: 0.8071 - categorical_accuracy: 0.6040 - val_loss: 0.7252 - val_categorical_accuracy: 0.6225\n",
            "Epoch 22/50\n",
            "50/50 [==============================] - 49s 982ms/step - loss: 0.8380 - categorical_accuracy: 0.6040 - val_loss: 0.6367 - val_categorical_accuracy: 0.7513\n",
            "Epoch 23/50\n",
            "50/50 [==============================] - 49s 989ms/step - loss: 0.7519 - categorical_accuracy: 0.6760 - val_loss: 0.5787 - val_categorical_accuracy: 0.7513\n",
            "Epoch 24/50\n",
            "50/50 [==============================] - 49s 984ms/step - loss: 0.8035 - categorical_accuracy: 0.6040 - val_loss: 0.6023 - val_categorical_accuracy: 0.7625\n",
            "Epoch 25/50\n",
            "50/50 [==============================] - 49s 980ms/step - loss: 0.7966 - categorical_accuracy: 0.6240 - val_loss: 0.5801 - val_categorical_accuracy: 0.7513\n",
            "Epoch 26/50\n",
            "50/50 [==============================] - 49s 981ms/step - loss: 0.7545 - categorical_accuracy: 0.6320 - val_loss: 0.5855 - val_categorical_accuracy: 0.7475\n",
            "Epoch 27/50\n",
            "50/50 [==============================] - 49s 985ms/step - loss: 0.7703 - categorical_accuracy: 0.6800 - val_loss: 0.6238 - val_categorical_accuracy: 0.7150\n",
            "Epoch 28/50\n",
            "50/50 [==============================] - 49s 979ms/step - loss: 0.6611 - categorical_accuracy: 0.7120 - val_loss: 0.4870 - val_categorical_accuracy: 0.7962\n",
            "Epoch 29/50\n",
            "50/50 [==============================] - 49s 979ms/step - loss: 0.7348 - categorical_accuracy: 0.6840 - val_loss: 0.6979 - val_categorical_accuracy: 0.7038\n",
            "Epoch 30/50\n",
            "50/50 [==============================] - 49s 987ms/step - loss: 0.7680 - categorical_accuracy: 0.6480 - val_loss: 0.5840 - val_categorical_accuracy: 0.7362\n",
            "Epoch 31/50\n",
            "50/50 [==============================] - 49s 981ms/step - loss: 0.8109 - categorical_accuracy: 0.5880 - val_loss: 0.6605 - val_categorical_accuracy: 0.6963\n",
            "Epoch 32/50\n",
            "50/50 [==============================] - 49s 981ms/step - loss: 0.6694 - categorical_accuracy: 0.7040 - val_loss: 0.6899 - val_categorical_accuracy: 0.6925\n",
            "Epoch 33/50\n",
            "50/50 [==============================] - 49s 977ms/step - loss: 0.7239 - categorical_accuracy: 0.6600 - val_loss: 0.6417 - val_categorical_accuracy: 0.6888\n",
            "Epoch 34/50\n",
            "50/50 [==============================] - 49s 980ms/step - loss: 0.7831 - categorical_accuracy: 0.6400 - val_loss: 0.5062 - val_categorical_accuracy: 0.8062\n",
            "Epoch 35/50\n",
            "50/50 [==============================] - 49s 983ms/step - loss: 0.7157 - categorical_accuracy: 0.6640 - val_loss: 0.6152 - val_categorical_accuracy: 0.7225\n",
            "Epoch 36/50\n",
            "50/50 [==============================] - 49s 981ms/step - loss: 0.7112 - categorical_accuracy: 0.6840 - val_loss: 0.7176 - val_categorical_accuracy: 0.6888\n",
            "Epoch 37/50\n",
            "50/50 [==============================] - 49s 980ms/step - loss: 0.7058 - categorical_accuracy: 0.7080 - val_loss: 0.7910 - val_categorical_accuracy: 0.7437\n",
            "Epoch 38/50\n",
            "50/50 [==============================] - 49s 977ms/step - loss: 0.7234 - categorical_accuracy: 0.6840 - val_loss: 0.7254 - val_categorical_accuracy: 0.7362\n",
            "Epoch 39/50\n",
            "50/50 [==============================] - 49s 976ms/step - loss: 0.6366 - categorical_accuracy: 0.7160 - val_loss: 0.5960 - val_categorical_accuracy: 0.7600\n",
            "Epoch 40/50\n",
            "50/50 [==============================] - 49s 982ms/step - loss: 0.7817 - categorical_accuracy: 0.6400 - val_loss: 0.6762 - val_categorical_accuracy: 0.6900\n",
            "Epoch 41/50\n",
            "50/50 [==============================] - 49s 980ms/step - loss: 0.7095 - categorical_accuracy: 0.6760 - val_loss: 0.5495 - val_categorical_accuracy: 0.7600\n",
            "Epoch 42/50\n",
            "50/50 [==============================] - 49s 981ms/step - loss: 0.7074 - categorical_accuracy: 0.6640 - val_loss: 0.5564 - val_categorical_accuracy: 0.7862\n",
            "Epoch 43/50\n",
            "50/50 [==============================] - 49s 980ms/step - loss: 0.6885 - categorical_accuracy: 0.6880 - val_loss: 0.9078 - val_categorical_accuracy: 0.5663\n",
            "Epoch 44/50\n",
            "50/50 [==============================] - 49s 980ms/step - loss: 0.7953 - categorical_accuracy: 0.6080 - val_loss: 0.5202 - val_categorical_accuracy: 0.7825\n",
            "Epoch 45/50\n",
            "50/50 [==============================] - 49s 981ms/step - loss: 0.6391 - categorical_accuracy: 0.7320 - val_loss: 0.7612 - val_categorical_accuracy: 0.6775\n",
            "Epoch 46/50\n",
            "50/50 [==============================] - 49s 982ms/step - loss: 0.6006 - categorical_accuracy: 0.7240 - val_loss: 0.7029 - val_categorical_accuracy: 0.7212\n",
            "Epoch 47/50\n",
            "50/50 [==============================] - 49s 980ms/step - loss: 0.6025 - categorical_accuracy: 0.7600 - val_loss: 0.5818 - val_categorical_accuracy: 0.7437\n",
            "Epoch 48/50\n",
            "50/50 [==============================] - 49s 980ms/step - loss: 0.7142 - categorical_accuracy: 0.6640 - val_loss: 0.7065 - val_categorical_accuracy: 0.6350\n",
            "Epoch 49/50\n",
            "50/50 [==============================] - 49s 982ms/step - loss: 0.7448 - categorical_accuracy: 0.6320 - val_loss: 0.8229 - val_categorical_accuracy: 0.5800\n",
            "Epoch 50/50\n",
            "50/50 [==============================] - 49s 976ms/step - loss: 0.6855 - categorical_accuracy: 0.6960 - val_loss: 0.6414 - val_categorical_accuracy: 0.7000\n"
          ],
          "name": "stdout"
        }
      ]
    },
    {
      "cell_type": "code",
      "metadata": {
        "id": "l4eMneGfnh50",
        "colab_type": "code",
        "colab": {}
      },
      "source": [
        "history0=history"
      ],
      "execution_count": null,
      "outputs": []
    },
    {
      "cell_type": "markdown",
      "metadata": {
        "id": "VubVWId2kvHQ",
        "colab_type": "text"
      },
      "source": [
        "# VGG16"
      ]
    },
    {
      "cell_type": "code",
      "metadata": {
        "id": "B5k-sS5VkpU9",
        "colab_type": "code",
        "colab": {
          "base_uri": "https://localhost:8080/",
          "height": 286
        },
        "outputId": "fabdc377-f2fb-47b7-bc50-c44230ae2e68"
      },
      "source": [
        "from keras.applications.vgg16 import VGG16\n",
        "from keras.models import Sequential\n",
        "from keras.layers import BatchNormalization,GlobalAveragePooling2D,Dense\n",
        "import numpy as np\n",
        "\n",
        "model = Sequential()\n",
        "\n",
        "vgg = VGG16(\n",
        "    weights='imagenet',\n",
        "    include_top=False,\n",
        "    input_shape=(256,256,3)\n",
        ")\n",
        "\n",
        "model.add(vgg)\n",
        "model.add(GlobalAveragePooling2D())\n",
        "model.add(BatchNormalization())\n",
        "\n",
        "model.add(Dense(units = 3, activation = 'softmax'))\n",
        "model.summary()"
      ],
      "execution_count": null,
      "outputs": [
        {
          "output_type": "stream",
          "text": [
            "Model: \"sequential_2\"\n",
            "_________________________________________________________________\n",
            "Layer (type)                 Output Shape              Param #   \n",
            "=================================================================\n",
            "vgg16 (Model)                (None, 8, 8, 512)         14714688  \n",
            "_________________________________________________________________\n",
            "global_average_pooling2d_2 ( (None, 512)               0         \n",
            "_________________________________________________________________\n",
            "batch_normalization_2 (Batch (None, 512)               2048      \n",
            "_________________________________________________________________\n",
            "dense_2 (Dense)              (None, 3)                 1539      \n",
            "=================================================================\n",
            "Total params: 14,718,275\n",
            "Trainable params: 14,717,251\n",
            "Non-trainable params: 1,024\n",
            "_________________________________________________________________\n"
          ],
          "name": "stdout"
        }
      ]
    },
    {
      "cell_type": "markdown",
      "metadata": {
        "id": "C1J_W4BvLBsM",
        "colab_type": "text"
      },
      "source": [
        "# VGG19"
      ]
    },
    {
      "cell_type": "code",
      "metadata": {
        "id": "vWpLIObOaWg2",
        "colab_type": "code",
        "colab": {}
      },
      "source": [
        "from keras.callbacks import Callback\n",
        "import keras.backend as K\n",
        "import numpy as np\n",
        "\n",
        "class SGDRScheduler(Callback):\n",
        "\n",
        "    def __init__(self,\n",
        "                 min_lr,\n",
        "                 max_lr,\n",
        "                 steps_per_epoch,\n",
        "                 lr_decay=1,\n",
        "                 cycle_length=10,\n",
        "                 mult_factor=2):\n",
        "\n",
        "        self.min_lr = min_lr\n",
        "        self.max_lr = max_lr\n",
        "        self.lr_decay = lr_decay\n",
        "\n",
        "        self.batch_since_restart = 0\n",
        "        self.next_restart = cycle_length\n",
        "\n",
        "        self.steps_per_epoch = steps_per_epoch\n",
        "\n",
        "        self.cycle_length = cycle_length\n",
        "        self.mult_factor = mult_factor\n",
        "\n",
        "        self.history = {}\n",
        "\n",
        "    def clr(self):\n",
        "        '''Calculate the learning rate.'''\n",
        "        fraction_to_restart = self.batch_since_restart / (self.steps_per_epoch * self.cycle_length)\n",
        "        lr = self.min_lr + 0.5 * (self.max_lr - self.min_lr) * (1 + np.cos(fraction_to_restart * np.pi))\n",
        "        return lr\n",
        "\n",
        "    def on_train_begin(self, logs={}):\n",
        "        '''Initialize the learning rate to the minimum value at the start of training.'''\n",
        "        logs = logs or {}\n",
        "        K.set_value(self.model.optimizer.lr, self.max_lr)\n",
        "\n",
        "    def on_batch_end(self, batch, logs={}):\n",
        "        '''Record previous batch statistics and update the learning rate.'''\n",
        "        logs = logs or {}\n",
        "        self.history.setdefault('lr', []).append(K.get_value(self.model.optimizer.lr))\n",
        "        for k, v in logs.items():\n",
        "            self.history.setdefault(k, []).append(v)\n",
        "\n",
        "        self.batch_since_restart += 1\n",
        "        K.set_value(self.model.optimizer.lr, self.clr())\n",
        "\n",
        "    def on_epoch_end(self, epoch, logs={}):\n",
        "        '''Check for end of current cycle, apply restarts when necessary.'''\n",
        "        if epoch + 1 == self.next_restart:\n",
        "            self.batch_since_restart = 0\n",
        "            self.cycle_length = np.ceil(self.cycle_length * self.mult_factor)\n",
        "            self.next_restart += self.cycle_length\n",
        "            self.max_lr *= self.lr_decay\n",
        "            self.best_weights = self.model.get_weights()\n",
        "\n",
        "    def on_train_end(self, logs={}):\n",
        "        '''Set weights to the values from the end of the most recent cycle for best performance.'''\n",
        "        self.model.set_weights(self.best_weights)"
      ],
      "execution_count": null,
      "outputs": []
    },
    {
      "cell_type": "code",
      "metadata": {
        "id": "977tWKtwadDH",
        "colab_type": "code",
        "colab": {}
      },
      "source": [
        "#熱重啟參數\n",
        "epochs = 30\n",
        "schedule = SGDRScheduler(min_lr=1e-5,\n",
        "                         max_lr=1e-2,\n",
        "                         steps_per_epoch=np.ceil(epochs/batch_size),\n",
        "                         lr_decay=0.9,\n",
        "                         cycle_length=5,\n",
        "                         mult_factor=1.5)\n",
        "\n",
        "# min_lr: The lower bound of the learning rate range for the experiment.\n",
        "# max_lr: The upper bound of the learning rate range for the experiment.\n",
        "# steps_per_epoch: Number of mini-batches in the dataset. Calculated as `np.ceil(epoch_size/batch_size)`. \n",
        "# lr_decay: Reduce the max_lr after the completion of each cycle. Ex:To reduce the max_lr by 20% after each cycle, set this value to 0.8.\n",
        "# cycle_length: Initial number of epochs in a cycle.\n",
        "# mult_factor: Scale epochs_to_restart after each full cycle completion."
      ],
      "execution_count": null,
      "outputs": []
    },
    {
      "cell_type": "code",
      "metadata": {
        "id": "wzZv8M_nuc4Q",
        "colab_type": "code",
        "colab": {}
      },
      "source": [
        "from keras.callbacks import ReduceLROnPlateau , EarlyStopping , ModelCheckpoint , LearningRateScheduler"
      ],
      "execution_count": null,
      "outputs": []
    },
    {
      "cell_type": "code",
      "metadata": {
        "id": "mOrQVBYVuA0H",
        "colab_type": "code",
        "colab": {
          "base_uri": "https://localhost:8080/",
          "height": 50
        },
        "outputId": "8419427f-1113-4bd2-8a75-4beab031da25"
      },
      "source": [
        "reduce_lr =  ReduceLROnPlateau(monitor = \"val_loss\", factor = 0.5, patience = 10,\n",
        "  verbose = 0, mode = \"auto\", epsilon = 1e-04, cooldown = 0,\n",
        "  min_lr = 1e-5)"
      ],
      "execution_count": null,
      "outputs": [
        {
          "output_type": "stream",
          "text": [
            "/usr/local/lib/python3.6/dist-packages/keras/callbacks/callbacks.py:998: UserWarning: `epsilon` argument is deprecated and will be removed, use `min_delta` instead.\n",
            "  warnings.warn('`epsilon` argument is deprecated and '\n"
          ],
          "name": "stderr"
        }
      ]
    },
    {
      "cell_type": "code",
      "metadata": {
        "id": "ZG6tWmCxuFa9",
        "colab_type": "code",
        "colab": {}
      },
      "source": [
        "es = EarlyStopping(monitor = \"val_loss\" , verbose = 1 , mode = 'min' , patience = 50 )"
      ],
      "execution_count": null,
      "outputs": []
    },
    {
      "cell_type": "code",
      "metadata": {
        "id": "PDhHFeDDuHXP",
        "colab_type": "code",
        "colab": {}
      },
      "source": [
        "mc = ModelCheckpoint('best_model.h5', monitor = 'loss' , mode = 'min', verbose = 1 , save_best_only = True)"
      ],
      "execution_count": null,
      "outputs": []
    },
    {
      "cell_type": "code",
      "metadata": {
        "colab_type": "code",
        "id": "QqjXUA0IdKI5",
        "colab": {
          "base_uri": "https://localhost:8080/",
          "height": 286
        },
        "outputId": "8fb19431-2f1f-4699-afdf-28fb62dd1037"
      },
      "source": [
        "from keras.applications.vgg19 import VGG19\n",
        "from keras.models import Sequential\n",
        "from keras.layers import BatchNormalization,GlobalAveragePooling2D,Dense,Dropout\n",
        "import numpy as np\n",
        "\n",
        "model = Sequential()\n",
        "\n",
        "vgg = VGG19(\n",
        "    weights='imagenet',\n",
        "    include_top=False,\n",
        "    input_shape=(input_size,input_size,3)\n",
        ")\n",
        "\n",
        "model.add(vgg)\n",
        "model.add(GlobalAveragePooling2D())\n",
        "# model.add(BatchNormalization())\n",
        "\n",
        "model.add(Dense(units = 6, activation = 'softmax'))\n",
        "model.summary()"
      ],
      "execution_count": null,
      "outputs": [
        {
          "output_type": "stream",
          "text": [
            "Downloading data from https://github.com/fchollet/deep-learning-models/releases/download/v0.1/vgg19_weights_tf_dim_ordering_tf_kernels_notop.h5\n",
            "80142336/80134624 [==============================] - 3s 0us/step\n",
            "Model: \"sequential_1\"\n",
            "_________________________________________________________________\n",
            "Layer (type)                 Output Shape              Param #   \n",
            "=================================================================\n",
            "vgg19 (Model)                (None, 7, 7, 512)         20024384  \n",
            "_________________________________________________________________\n",
            "global_average_pooling2d_1 ( (None, 512)               0         \n",
            "_________________________________________________________________\n",
            "dense_1 (Dense)              (None, 6)                 3078      \n",
            "=================================================================\n",
            "Total params: 20,027,462\n",
            "Trainable params: 20,027,462\n",
            "Non-trainable params: 0\n",
            "_________________________________________________________________\n"
          ],
          "name": "stdout"
        }
      ]
    },
    {
      "cell_type": "code",
      "metadata": {
        "colab_type": "code",
        "id": "T1sbhU_JGbUV",
        "colab": {
          "base_uri": "https://localhost:8080/",
          "height": 286
        },
        "outputId": "329ba6a5-5ad2-4935-a33f-b0120afa53a5"
      },
      "source": [
        "from keras.applications.vgg19 import VGG19\n",
        "from keras.models import Sequential\n",
        "from keras.layers import BatchNormalization,GlobalAveragePooling2D,Dense,Dropout\n",
        "import numpy as np\n",
        "\n",
        "model = Sequential()\n",
        "\n",
        "vgg = VGG19(\n",
        "    weights='imagenet',\n",
        "    include_top=False,\n",
        "    input_shape=(input_size,input_size,3)\n",
        ")\n",
        "\n",
        "model.add(vgg)\n",
        "model.add(GlobalAveragePooling2D())\n",
        "# model.add(BatchNormalization())\n",
        "\n",
        "model.add(Dense(units = 3, activation = 'softmax'))\n",
        "model.summary()"
      ],
      "execution_count": null,
      "outputs": [
        {
          "output_type": "stream",
          "text": [
            "Downloading data from https://github.com/fchollet/deep-learning-models/releases/download/v0.1/vgg19_weights_tf_dim_ordering_tf_kernels_notop.h5\n",
            "80142336/80134624 [==============================] - 7s 0us/step\n",
            "Model: \"sequential_1\"\n",
            "_________________________________________________________________\n",
            "Layer (type)                 Output Shape              Param #   \n",
            "=================================================================\n",
            "vgg19 (Model)                (None, 8, 8, 512)         20024384  \n",
            "_________________________________________________________________\n",
            "global_average_pooling2d_1 ( (None, 512)               0         \n",
            "_________________________________________________________________\n",
            "dense_1 (Dense)              (None, 3)                 1539      \n",
            "=================================================================\n",
            "Total params: 20,025,923\n",
            "Trainable params: 20,025,923\n",
            "Non-trainable params: 0\n",
            "_________________________________________________________________\n"
          ],
          "name": "stdout"
        }
      ]
    },
    {
      "cell_type": "code",
      "metadata": {
        "colab_type": "code",
        "id": "9B0Asn-PDb4F",
        "colab": {
          "base_uri": "https://localhost:8080/",
          "height": 353
        },
        "outputId": "915c538c-d6be-43f3-8431-4ce41f966627"
      },
      "source": [
        "from tensorflow.keras import optimizers\n",
        "\n",
        "model.compile(optimizer='SGD',\n",
        "              loss='categorical_crossentropy',\n",
        "              metrics=['categorical_accuracy'])\n",
        "train_num = training_set.samples\n",
        "valid_num = valid_set.samples\n",
        "\n",
        "\n",
        "history = model.fit_generator(training_set,\n",
        "                         steps_per_epoch=train_num//batch_size,\n",
        "                         validation_data=valid_set,\n",
        "                         epochs=10,\n",
        "                         validation_steps=valid_num//batch_size),\n",
        "                        #  callbacks = [reduce_lr,es])"
      ],
      "execution_count": null,
      "outputs": [
        {
          "output_type": "stream",
          "text": [
            "Epoch 1/10\n",
            "19/19 [==============================] - 283s 15s/step - loss: 1.7511 - categorical_accuracy: 0.2986 - val_loss: 1.7102 - val_categorical_accuracy: 0.2000\n",
            "Epoch 2/10\n",
            "19/19 [==============================] - 22s 1s/step - loss: 1.7118 - categorical_accuracy: 0.2918 - val_loss: 1.5534 - val_categorical_accuracy: 0.3667\n",
            "Epoch 3/10\n",
            "19/19 [==============================] - 10s 526ms/step - loss: 1.4133 - categorical_accuracy: 0.4539 - val_loss: 1.0500 - val_categorical_accuracy: 0.5667\n",
            "Epoch 4/10\n",
            "19/19 [==============================] - 10s 542ms/step - loss: 1.0363 - categorical_accuracy: 0.5707 - val_loss: 0.8376 - val_categorical_accuracy: 0.6000\n",
            "Epoch 5/10\n",
            "19/19 [==============================] - 10s 505ms/step - loss: 1.2372 - categorical_accuracy: 0.5355 - val_loss: 1.3926 - val_categorical_accuracy: 0.4000\n",
            "Epoch 6/10\n",
            "19/19 [==============================] - 10s 543ms/step - loss: 0.9086 - categorical_accuracy: 0.6530 - val_loss: 0.6047 - val_categorical_accuracy: 0.7667\n",
            "Epoch 7/10\n",
            "19/19 [==============================] - 10s 521ms/step - loss: 0.9241 - categorical_accuracy: 0.6724 - val_loss: 0.8383 - val_categorical_accuracy: 0.6333\n",
            "Epoch 8/10\n",
            "19/19 [==============================] - 10s 509ms/step - loss: 0.6270 - categorical_accuracy: 0.7748 - val_loss: 0.3319 - val_categorical_accuracy: 0.8667\n",
            "Epoch 9/10\n",
            "19/19 [==============================] - 10s 517ms/step - loss: 0.4120 - categorical_accuracy: 0.8379 - val_loss: 0.9267 - val_categorical_accuracy: 0.6667\n",
            "Epoch 10/10\n",
            "19/19 [==============================] - 10s 520ms/step - loss: 0.4879 - categorical_accuracy: 0.8498 - val_loss: 0.1133 - val_categorical_accuracy: 0.9667\n"
          ],
          "name": "stdout"
        }
      ]
    },
    {
      "cell_type": "code",
      "metadata": {
        "colab_type": "code",
        "id": "2Bl5_VVnvUd0",
        "colab": {}
      },
      "source": [
        "model.save(\"/content/drive/My Drive/data/mango_2callbacks_8263.h5\")\n",
        "del model"
      ],
      "execution_count": null,
      "outputs": []
    },
    {
      "cell_type": "code",
      "metadata": {
        "colab_type": "code",
        "id": "4LTnhDNmDcJK",
        "colab": {
          "base_uri": "https://localhost:8080/",
          "height": 1000
        },
        "outputId": "243af77b-0322-4593-da86-5e51b2665b94"
      },
      "source": [
        "from tensorflow.keras import optimizers\n",
        "model.compile(optimizer='SGD',\n",
        "              loss='categorical_crossentropy',\n",
        "              metrics=['categorical_accuracy'])\n",
        "train_num = training_set_noback.samples\n",
        "valid_num = valid_set_noback.samples\n",
        "\n",
        "\n",
        "history_new = model.fit(training_set_noback,\n",
        "                         steps_per_epoch=train_num//batch_size,\n",
        "                         validation_data=valid_set_noback,\n",
        "                         epochs=30,\n",
        "                         validation_steps=valid_num//batch_size,\n",
        "                         callbacks=[schedule])"
      ],
      "execution_count": null,
      "outputs": [
        {
          "output_type": "stream",
          "text": [
            "Epoch 1/30\n",
            "118/175 [===================>..........] - ETA: 16:31 - loss: 1.0938 - categorical_accuracy: 0.3618"
          ],
          "name": "stdout"
        },
        {
          "output_type": "stream",
          "text": [
            "/usr/local/lib/python3.6/dist-packages/keras/utils/data_utils.py:616: UserWarning: The input 136 could not be retrieved. It could be because a worker has died.\n",
            "  UserWarning)\n"
          ],
          "name": "stderr"
        },
        {
          "output_type": "stream",
          "text": [
            "175/175 [==============================] - 3300s 19s/step - loss: 1.0881 - categorical_accuracy: 0.3729 - val_loss: 1.0924 - val_categorical_accuracy: 0.3212\n",
            "Epoch 2/30\n",
            "175/175 [==============================] - 176s 1s/step - loss: 1.0855 - categorical_accuracy: 0.3771 - val_loss: 1.1193 - val_categorical_accuracy: 0.3663\n",
            "Epoch 3/30\n",
            "175/175 [==============================] - 179s 1s/step - loss: 1.0967 - categorical_accuracy: 0.3663 - val_loss: 1.1193 - val_categorical_accuracy: 0.3663\n",
            "Epoch 4/30\n",
            "175/175 [==============================] - 186s 1s/step - loss: 1.0880 - categorical_accuracy: 0.3663 - val_loss: 1.1119 - val_categorical_accuracy: 0.4563\n",
            "Epoch 5/30\n",
            "175/175 [==============================] - 187s 1s/step - loss: 1.0374 - categorical_accuracy: 0.4093 - val_loss: 1.0972 - val_categorical_accuracy: 0.3650\n",
            "Epoch 6/30\n",
            "175/175 [==============================] - 187s 1s/step - loss: 1.0940 - categorical_accuracy: 0.3704 - val_loss: 1.0851 - val_categorical_accuracy: 0.3738\n",
            "Epoch 7/30\n",
            "175/175 [==============================] - 186s 1s/step - loss: 1.0848 - categorical_accuracy: 0.3971 - val_loss: 1.0295 - val_categorical_accuracy: 0.4538\n",
            "Epoch 8/30\n",
            "175/175 [==============================] - 187s 1s/step - loss: 1.0365 - categorical_accuracy: 0.4729 - val_loss: 0.8014 - val_categorical_accuracy: 0.4950\n",
            "Epoch 9/30\n",
            "175/175 [==============================] - 187s 1s/step - loss: 0.9650 - categorical_accuracy: 0.5134 - val_loss: 0.7409 - val_categorical_accuracy: 0.7038\n",
            "Epoch 10/30\n",
            "175/175 [==============================] - 187s 1s/step - loss: 0.6800 - categorical_accuracy: 0.7011 - val_loss: 0.4901 - val_categorical_accuracy: 0.7713\n",
            "Epoch 11/30\n",
            "175/175 [==============================] - 185s 1s/step - loss: 0.6161 - categorical_accuracy: 0.7271 - val_loss: 0.4431 - val_categorical_accuracy: 0.7325\n",
            "Epoch 12/30\n",
            "175/175 [==============================] - 181s 1s/step - loss: 0.5712 - categorical_accuracy: 0.7421 - val_loss: 0.3920 - val_categorical_accuracy: 0.8000\n",
            "Epoch 13/30\n",
            "175/175 [==============================] - 181s 1s/step - loss: 0.5601 - categorical_accuracy: 0.7534 - val_loss: 0.4409 - val_categorical_accuracy: 0.7850\n",
            "Epoch 14/30\n",
            "175/175 [==============================] - 181s 1s/step - loss: 0.5421 - categorical_accuracy: 0.7573 - val_loss: 0.5101 - val_categorical_accuracy: 0.7638\n",
            "Epoch 15/30\n",
            "175/175 [==============================] - 185s 1s/step - loss: 0.5266 - categorical_accuracy: 0.7652 - val_loss: 0.3991 - val_categorical_accuracy: 0.7738\n",
            "Epoch 16/30\n",
            "175/175 [==============================] - 185s 1s/step - loss: 0.5306 - categorical_accuracy: 0.7663 - val_loss: 0.5496 - val_categorical_accuracy: 0.8000\n",
            "Epoch 17/30\n",
            "175/175 [==============================] - 185s 1s/step - loss: 0.5271 - categorical_accuracy: 0.7696 - val_loss: 0.4054 - val_categorical_accuracy: 0.7362\n",
            "Epoch 18/30\n",
            "175/175 [==============================] - 180s 1s/step - loss: 0.5201 - categorical_accuracy: 0.7725 - val_loss: 0.3090 - val_categorical_accuracy: 0.8037\n",
            "Epoch 19/30\n",
            "175/175 [==============================] - 179s 1s/step - loss: 0.5093 - categorical_accuracy: 0.7761 - val_loss: 0.3389 - val_categorical_accuracy: 0.7788\n",
            "Epoch 20/30\n",
            "175/175 [==============================] - 179s 1s/step - loss: 0.5112 - categorical_accuracy: 0.7732 - val_loss: 0.6421 - val_categorical_accuracy: 0.7750\n",
            "Epoch 21/30\n",
            "175/175 [==============================] - 179s 1s/step - loss: 0.4983 - categorical_accuracy: 0.7789 - val_loss: 0.4607 - val_categorical_accuracy: 0.7663\n",
            "Epoch 22/30\n",
            "175/175 [==============================] - 179s 1s/step - loss: 0.4975 - categorical_accuracy: 0.7757 - val_loss: 0.5084 - val_categorical_accuracy: 0.8100\n",
            "Epoch 23/30\n",
            "175/175 [==============================] - 180s 1s/step - loss: 0.5015 - categorical_accuracy: 0.7802 - val_loss: 0.5143 - val_categorical_accuracy: 0.7925\n",
            "Epoch 24/30\n",
            "175/175 [==============================] - 179s 1s/step - loss: 0.4985 - categorical_accuracy: 0.7793 - val_loss: 0.5881 - val_categorical_accuracy: 0.6938\n",
            "Epoch 25/30\n",
            "175/175 [==============================] - 179s 1s/step - loss: 0.4795 - categorical_accuracy: 0.7895 - val_loss: 0.3508 - val_categorical_accuracy: 0.7825\n",
            "Epoch 26/30\n",
            "175/175 [==============================] - 180s 1s/step - loss: 0.4759 - categorical_accuracy: 0.7898 - val_loss: 0.5000 - val_categorical_accuracy: 0.8112\n",
            "Epoch 27/30\n",
            "175/175 [==============================] - 179s 1s/step - loss: 0.4705 - categorical_accuracy: 0.7945 - val_loss: 0.4752 - val_categorical_accuracy: 0.8050\n",
            "Epoch 28/30\n",
            "175/175 [==============================] - 180s 1s/step - loss: 0.4696 - categorical_accuracy: 0.7930 - val_loss: 0.4985 - val_categorical_accuracy: 0.7987\n",
            "Epoch 29/30\n",
            "175/175 [==============================] - 179s 1s/step - loss: 0.4683 - categorical_accuracy: 0.7911 - val_loss: 0.4262 - val_categorical_accuracy: 0.8037\n",
            "Epoch 30/30\n",
            "175/175 [==============================] - 179s 1s/step - loss: 0.4609 - categorical_accuracy: 0.8002 - val_loss: 0.4031 - val_categorical_accuracy: 0.8037\n"
          ],
          "name": "stdout"
        }
      ]
    },
    {
      "cell_type": "code",
      "metadata": {
        "id": "Ybqxjd1Lut5Z",
        "colab_type": "code",
        "colab": {}
      },
      "source": [
        "model.save(\"/content/drive/My Drive/data/mango_new.h5\")\n",
        "del model"
      ],
      "execution_count": null,
      "outputs": []
    },
    {
      "cell_type": "code",
      "metadata": {
        "colab_type": "code",
        "id": "C46umObgByCQ",
        "colab": {
          "base_uri": "https://localhost:8080/",
          "height": 1000
        },
        "outputId": "c549445f-eac4-4129-8de1-4013aa902319"
      },
      "source": [
        "from tensorflow.keras import optimizers\n",
        "model.compile(optimizer='SGD',\n",
        "              loss='categorical_crossentropy',\n",
        "              metrics=['categorical_accuracy'])\n",
        "train_num = training_set_gan2.samples\n",
        "valid_num = valid_set_gan2.samples\n",
        "\n",
        "\n",
        "history_gan2 = model.fit(training_set_gan2,\n",
        "                         steps_per_epoch=train_num//batch_size,\n",
        "                         validation_data=valid_set_gan2,\n",
        "                         epochs=100,\n",
        "                         validation_steps=valid_num//batch_size,\n",
        "                         callbacks = [reduce_lr,es])"
      ],
      "execution_count": null,
      "outputs": [
        {
          "output_type": "stream",
          "text": [
            "Epoch 1/100\n",
            "322/322 [==============================] - 2475s 8s/step - loss: 0.9479 - categorical_accuracy: 0.5383 - val_loss: 0.9711 - val_categorical_accuracy: 0.6375\n",
            "Epoch 2/100\n",
            "322/322 [==============================] - 354s 1s/step - loss: 0.5010 - categorical_accuracy: 0.7850 - val_loss: 0.7492 - val_categorical_accuracy: 0.7812\n",
            "Epoch 3/100\n",
            "322/322 [==============================] - 356s 1s/step - loss: 0.4313 - categorical_accuracy: 0.8190 - val_loss: 0.4176 - val_categorical_accuracy: 0.7487\n",
            "Epoch 4/100\n",
            "322/322 [==============================] - 357s 1s/step - loss: 0.4116 - categorical_accuracy: 0.8244 - val_loss: 0.5359 - val_categorical_accuracy: 0.7613\n",
            "Epoch 5/100\n",
            "322/322 [==============================] - 355s 1s/step - loss: 0.3958 - categorical_accuracy: 0.8370 - val_loss: 0.5918 - val_categorical_accuracy: 0.6475\n",
            "Epoch 6/100\n",
            "322/322 [==============================] - 355s 1s/step - loss: 0.3918 - categorical_accuracy: 0.8315 - val_loss: 0.5111 - val_categorical_accuracy: 0.8037\n",
            "Epoch 7/100\n",
            "322/322 [==============================] - 360s 1s/step - loss: 0.3613 - categorical_accuracy: 0.8476 - val_loss: 0.4044 - val_categorical_accuracy: 0.7975\n",
            "Epoch 8/100\n",
            "322/322 [==============================] - 357s 1s/step - loss: 0.3648 - categorical_accuracy: 0.8455 - val_loss: 0.5168 - val_categorical_accuracy: 0.7713\n",
            "Epoch 9/100\n",
            "322/322 [==============================] - 354s 1s/step - loss: 0.3424 - categorical_accuracy: 0.8549 - val_loss: 0.5208 - val_categorical_accuracy: 0.7650\n",
            "Epoch 10/100\n",
            "322/322 [==============================] - 355s 1s/step - loss: 0.3410 - categorical_accuracy: 0.8541 - val_loss: 0.5175 - val_categorical_accuracy: 0.8213\n",
            "Epoch 11/100\n",
            "322/322 [==============================] - 355s 1s/step - loss: 0.3292 - categorical_accuracy: 0.8609 - val_loss: 0.4792 - val_categorical_accuracy: 0.7225\n",
            "Epoch 12/100\n",
            "322/322 [==============================] - 356s 1s/step - loss: 0.3245 - categorical_accuracy: 0.8644 - val_loss: 0.3689 - val_categorical_accuracy: 0.8037\n",
            "Epoch 13/100\n",
            "322/322 [==============================] - 357s 1s/step - loss: 0.3165 - categorical_accuracy: 0.8664 - val_loss: 0.3509 - val_categorical_accuracy: 0.8213\n",
            "Epoch 14/100\n",
            "322/322 [==============================] - 354s 1s/step - loss: 0.3205 - categorical_accuracy: 0.8654 - val_loss: 0.4581 - val_categorical_accuracy: 0.7950\n",
            "Epoch 15/100\n",
            "322/322 [==============================] - 353s 1s/step - loss: 0.3063 - categorical_accuracy: 0.8716 - val_loss: 0.7493 - val_categorical_accuracy: 0.7275\n",
            "Epoch 16/100\n",
            "322/322 [==============================] - 351s 1s/step - loss: 0.3065 - categorical_accuracy: 0.8701 - val_loss: 0.4536 - val_categorical_accuracy: 0.8138\n",
            "Epoch 17/100\n",
            "322/322 [==============================] - 354s 1s/step - loss: 0.3018 - categorical_accuracy: 0.8730 - val_loss: 0.6968 - val_categorical_accuracy: 0.8025\n",
            "Epoch 18/100\n",
            "322/322 [==============================] - 350s 1s/step - loss: 0.3007 - categorical_accuracy: 0.8731 - val_loss: 0.3886 - val_categorical_accuracy: 0.8213\n",
            "Epoch 19/100\n",
            "322/322 [==============================] - 350s 1s/step - loss: 0.2902 - categorical_accuracy: 0.8771 - val_loss: 0.4915 - val_categorical_accuracy: 0.8138\n",
            "Epoch 20/100\n",
            "322/322 [==============================] - 349s 1s/step - loss: 0.2930 - categorical_accuracy: 0.8753 - val_loss: 0.3003 - val_categorical_accuracy: 0.8050\n",
            "Epoch 21/100\n",
            "322/322 [==============================] - 348s 1s/step - loss: 0.2918 - categorical_accuracy: 0.8762 - val_loss: 0.6949 - val_categorical_accuracy: 0.7437\n",
            "Epoch 22/100\n",
            "322/322 [==============================] - 347s 1s/step - loss: 0.2884 - categorical_accuracy: 0.8792 - val_loss: 0.7632 - val_categorical_accuracy: 0.8300\n",
            "Epoch 23/100\n",
            "322/322 [==============================] - 346s 1s/step - loss: 0.2807 - categorical_accuracy: 0.8828 - val_loss: 0.4383 - val_categorical_accuracy: 0.8238\n",
            "Epoch 24/100\n",
            "322/322 [==============================] - 346s 1s/step - loss: 0.2804 - categorical_accuracy: 0.8820 - val_loss: 0.3134 - val_categorical_accuracy: 0.8100\n",
            "Epoch 25/100\n",
            "322/322 [==============================] - 345s 1s/step - loss: 0.2688 - categorical_accuracy: 0.8854 - val_loss: 0.4923 - val_categorical_accuracy: 0.8062\n",
            "Epoch 26/100\n",
            "322/322 [==============================] - 347s 1s/step - loss: 0.2707 - categorical_accuracy: 0.8853 - val_loss: 0.4296 - val_categorical_accuracy: 0.8062\n",
            "Epoch 27/100\n",
            "322/322 [==============================] - 347s 1s/step - loss: 0.2645 - categorical_accuracy: 0.8866 - val_loss: 0.5528 - val_categorical_accuracy: 0.8225\n",
            "Epoch 28/100\n",
            "322/322 [==============================] - 348s 1s/step - loss: 0.2732 - categorical_accuracy: 0.8872 - val_loss: 0.3956 - val_categorical_accuracy: 0.8250\n",
            "Epoch 29/100\n",
            "322/322 [==============================] - 345s 1s/step - loss: 0.2631 - categorical_accuracy: 0.8904 - val_loss: 0.3549 - val_categorical_accuracy: 0.8213\n",
            "Epoch 30/100\n",
            "322/322 [==============================] - 347s 1s/step - loss: 0.2679 - categorical_accuracy: 0.8879 - val_loss: 0.4030 - val_categorical_accuracy: 0.8250\n",
            "Epoch 31/100\n",
            "260/322 [=======================>......] - ETA: 1:03 - loss: 0.2421 - categorical_accuracy: 0.8975"
          ],
          "name": "stdout"
        }
      ]
    },
    {
      "cell_type": "code",
      "metadata": {
        "colab_type": "code",
        "id": "4kDlAR8QYXNo",
        "colab": {
          "base_uri": "https://localhost:8080/",
          "height": 488
        },
        "outputId": "cbe7c2fc-bb08-4b51-cb85-20745e2b0cba"
      },
      "source": [
        "from tensorflow.keras import optimizers\n",
        "model.compile(optimizer='SGD',\n",
        "              loss='categorical_crossentropy',\n",
        "              metrics=['categorical_accuracy'])\n",
        "train_num = training_set_gan3.samples\n",
        "valid_num = valid_set_gan3.samples\n",
        "\n",
        "\n",
        "history_gan2 = model.fit(training_set_gan3,\n",
        "                         steps_per_epoch=train_num//batch_size,\n",
        "                         validation_data=valid_set_gan3,\n",
        "                         epochs=30,\n",
        "                         validation_steps=valid_num//batch_size)"
      ],
      "execution_count": null,
      "outputs": [
        {
          "output_type": "stream",
          "text": [
            "Epoch 1/30\n",
            " 26/496 [>.............................] - ETA: 2:37:44 - loss: 1.1167 - categorical_accuracy: 0.4123"
          ],
          "name": "stdout"
        },
        {
          "output_type": "stream",
          "text": [
            "/usr/local/lib/python3.6/dist-packages/keras/utils/data_utils.py:616: UserWarning: The input 467 could not be retrieved. It could be because a worker has died.\n",
            "  UserWarning)\n"
          ],
          "name": "stderr"
        },
        {
          "output_type": "stream",
          "text": [
            " 48/496 [=>............................] - ETA: 2:37:03 - loss: 1.1149 - categorical_accuracy: 0.3958"
          ],
          "name": "stdout"
        },
        {
          "output_type": "stream",
          "text": [
            "/usr/local/lib/python3.6/dist-packages/keras/utils/data_utils.py:616: UserWarning: The input 233 could not be retrieved. It could be because a worker has died.\n",
            "  UserWarning)\n"
          ],
          "name": "stderr"
        },
        {
          "output_type": "stream",
          "text": [
            " 50/496 [==>...........................] - ETA: 2:38:50 - loss: 1.1137 - categorical_accuracy: 0.3969"
          ],
          "name": "stdout"
        },
        {
          "output_type": "stream",
          "text": [
            "/usr/local/lib/python3.6/dist-packages/keras/utils/data_utils.py:616: UserWarning: The input 101 could not be retrieved. It could be because a worker has died.\n",
            "  UserWarning)\n"
          ],
          "name": "stderr"
        },
        {
          "output_type": "stream",
          "text": [
            " 53/496 [==>...........................] - ETA: 2:39:21 - loss: 1.1149 - categorical_accuracy: 0.3915"
          ],
          "name": "stdout"
        },
        {
          "output_type": "stream",
          "text": [
            "/usr/local/lib/python3.6/dist-packages/keras/utils/data_utils.py:616: UserWarning: The input 335 could not be retrieved. It could be because a worker has died.\n",
            "  UserWarning)\n"
          ],
          "name": "stderr"
        },
        {
          "output_type": "stream",
          "text": [
            " 57/496 [==>...........................] - ETA: 2:41:44 - loss: 1.1141 - categorical_accuracy: 0.3936"
          ],
          "name": "stdout"
        },
        {
          "output_type": "stream",
          "text": [
            "/usr/local/lib/python3.6/dist-packages/keras/utils/data_utils.py:616: UserWarning: The input 161 could not be retrieved. It could be because a worker has died.\n",
            "  UserWarning)\n"
          ],
          "name": "stderr"
        },
        {
          "output_type": "stream",
          "text": [
            "101/496 [=====>........................] - ETA: 2:21:27 - loss: 1.0901 - categorical_accuracy: 0.4177"
          ],
          "name": "stdout"
        },
        {
          "output_type": "stream",
          "text": [
            "/usr/local/lib/python3.6/dist-packages/keras/utils/data_utils.py:616: UserWarning: The input 354 could not be retrieved. It could be because a worker has died.\n",
            "  UserWarning)\n"
          ],
          "name": "stderr"
        },
        {
          "output_type": "stream",
          "text": [
            "\b\b\b\b\b\b\b\b\b\b\b\b\b\b\b\b\b\b\b\b\b\b\b\b\b\b\b\b\b\b\b\b\b\b\b\b\b\b\b\b\b\b\b\b\b\b\b\b\b\b\b\b\b\b\b\b\b\b\b\b\b\b\b\b\b\b\b\b\b\b\b\b\b\b\b\b\b\b\b\b\b\b\b\b\b\b\b\b\b\b\b\b\b\b\b\b\b\b\b\b\b\r102/496 [=====>........................] - ETA: 2:22:21 - loss: 1.0896 - categorical_accuracy: 0.4182"
          ],
          "name": "stdout"
        },
        {
          "output_type": "stream",
          "text": [
            "/usr/local/lib/python3.6/dist-packages/keras/utils/data_utils.py:616: UserWarning: The input 277 could not be retrieved. It could be because a worker has died.\n",
            "  UserWarning)\n"
          ],
          "name": "stderr"
        },
        {
          "output_type": "stream",
          "text": [
            "118/496 [======>.......................] - ETA: 2:16:52 - loss: 1.0858 - categorical_accuracy: 0.4235"
          ],
          "name": "stdout"
        },
        {
          "output_type": "stream",
          "text": [
            "/usr/local/lib/python3.6/dist-packages/keras/utils/data_utils.py:616: UserWarning: The input 242 could not be retrieved. It could be because a worker has died.\n",
            "  UserWarning)\n"
          ],
          "name": "stderr"
        },
        {
          "output_type": "stream",
          "text": [
            "151/496 [========>.....................] - ETA: 2:04:13 - loss: 1.0680 - categorical_accuracy: 0.4385"
          ],
          "name": "stdout"
        },
        {
          "output_type": "stream",
          "text": [
            "/usr/local/lib/python3.6/dist-packages/keras/utils/data_utils.py:616: UserWarning: The input 140 could not be retrieved. It could be because a worker has died.\n",
            "  UserWarning)\n"
          ],
          "name": "stderr"
        },
        {
          "output_type": "stream",
          "text": [
            "212/496 [===========>..................] - ETA: 1:40:44 - loss: 1.0301 - categorical_accuracy: 0.4655"
          ],
          "name": "stdout"
        },
        {
          "output_type": "stream",
          "text": [
            "/usr/local/lib/python3.6/dist-packages/keras/utils/data_utils.py:616: UserWarning: The input 104 could not be retrieved. It could be because a worker has died.\n",
            "  UserWarning)\n"
          ],
          "name": "stderr"
        },
        {
          "output_type": "stream",
          "text": [
            "238/496 [=============>................] - ETA: 1:31:17 - loss: 0.9997 - categorical_accuracy: 0.4874"
          ],
          "name": "stdout"
        },
        {
          "output_type": "stream",
          "text": [
            "/usr/local/lib/python3.6/dist-packages/keras/utils/data_utils.py:616: UserWarning: The input 8 could not be retrieved. It could be because a worker has died.\n",
            "  UserWarning)\n"
          ],
          "name": "stderr"
        },
        {
          "output_type": "stream",
          "text": [
            "\b\b\b\b\b\b\b\b\b\b\b\b\b\b\b\b\b\b\b\b\b\b\b\b\b\b\b\b\b\b\b\b\b\b\b\b\b\b\b\b\b\b\b\b\b\b\b\b\b\b\b\b\b\b\b\b\b\b\b\b\b\b\b\b\b\b\b\b\b\b\b\b\b\b\b\b\b\b\b\b\b\b\b\b\b\b\b\b\b\b\b\b\b\b\b\b\b\b\b\b\b\r239/496 [=============>................] - ETA: 1:31:11 - loss: 0.9998 - categorical_accuracy: 0.4880"
          ],
          "name": "stdout"
        },
        {
          "output_type": "stream",
          "text": [
            "/usr/local/lib/python3.6/dist-packages/keras/utils/data_utils.py:616: UserWarning: The input 406 could not be retrieved. It could be because a worker has died.\n",
            "  UserWarning)\n"
          ],
          "name": "stderr"
        },
        {
          "output_type": "stream",
          "text": [
            "256/496 [==============>...............] - ETA: 1:24:58 - loss: 0.9808 - categorical_accuracy: 0.5004"
          ],
          "name": "stdout"
        }
      ]
    },
    {
      "cell_type": "markdown",
      "metadata": {
        "id": "bOEn7wMj9f5R",
        "colab_type": "text"
      },
      "source": [
        "# alexNet"
      ]
    },
    {
      "cell_type": "code",
      "metadata": {
        "id": "N_ErQ3Ql9yIj",
        "colab_type": "code",
        "colab": {}
      },
      "source": [
        "from keras.models import Sequential\n",
        "from keras.layers import Dense, Flatten, Dropout\n",
        "from keras.layers.convolutional import Conv2D, MaxPooling2D\n",
        "from keras.utils.np_utils import to_categorical\n",
        "import numpy as np\n",
        "seed = 7\n",
        "np.random.seed(seed)\n",
        "\n",
        "# 建立模型序列\n",
        "model = Sequential()\n",
        "#第一層卷積網路，使用96個卷積核，大小為11x11步長為4， 要求輸入的圖片為227x227， 3個通道，不加邊，啟用函式使用relu\n",
        "model.add(Conv2D(96, (11, 11), strides=(1, 1), input_shape=(256, 256, 3), padding='same', activation='relu',\n",
        "                 kernel_initializer='uniform'))\n",
        "# 池化層\n",
        "model.add(MaxPooling2D(pool_size=(3, 3), strides=(2, 2)))\n",
        "# 第二層加邊使用256個5x5的卷積核，加邊，啟用函式為relu\n",
        "model.add(Conv2D(256, (5, 5), strides=(1, 1), padding='same', activation='relu', kernel_initializer='uniform'))\n",
        "#使用池化層，步長為2\n",
        "model.add(MaxPooling2D(pool_size=(3, 3), strides=(2, 2)))\n",
        "# 第三層卷積，大小為3x3的卷積核使用384個\n",
        "model.add(Conv2D(384, (3, 3), strides=(1, 1), padding='same', activation='relu', kernel_initializer='uniform'))\n",
        "# 第四層卷積,同第三層\n",
        "model.add(Conv2D(384, (3, 3), strides=(1, 1), padding='same', activation='relu', kernel_initializer='uniform'))\n",
        "# 第五層卷積使用的卷積核為256個，其他同上\n",
        "model.add(Conv2D(256, (3, 3), strides=(1, 1), padding='same', activation='relu', kernel_initializer='uniform'))\n",
        "model.add(MaxPooling2D(pool_size=(3, 3), strides=(2, 2)))\n",
        "\n",
        "model.add(Flatten())\n",
        "model.add(Dense(1024, activation='relu'))\n",
        "model.add(Dropout(0.5))\n",
        "model.add(Dense(512, activation='relu'))\n",
        "model.add(Dropout(0.5))\n",
        "model.add(Dense(3, activation='softmax'))\n",
        "model.compile(loss='categorical_crossentropy', optimizer='sgd', metrics=['accuracy'])\n",
        "model.summary()\n"
      ],
      "execution_count": null,
      "outputs": []
    },
    {
      "cell_type": "code",
      "metadata": {
        "id": "q_2SaHa690Nt",
        "colab_type": "code",
        "colab": {}
      },
      "source": [
        "train_num = training_set.samples\n",
        "valid_num = valid_set.samples\n",
        "\n",
        "\n",
        "history0 = model.fit(training_set,\n",
        "                         steps_per_epoch=train_num//batch_size,\n",
        "                         validation_data=valid_set,\n",
        "                         epochs=40,\n",
        "                         validation_steps=valid_num//batch_size)"
      ],
      "execution_count": null,
      "outputs": []
    },
    {
      "cell_type": "markdown",
      "metadata": {
        "id": "ZKLtBuJaE3-s",
        "colab_type": "text"
      },
      "source": [
        "# Training"
      ]
    },
    {
      "cell_type": "code",
      "metadata": {
        "id": "cbyUrri2Vk2Z",
        "colab_type": "code",
        "colab": {}
      },
      "source": [
        "from keras.models import load_model\n",
        "model=load_model(\"/content/drive/My Drive/data/mango_2callbacks_8263.h5\")"
      ],
      "execution_count": null,
      "outputs": []
    },
    {
      "cell_type": "code",
      "metadata": {
        "id": "hbr9I8WG9_F_",
        "colab_type": "code",
        "colab": {
          "base_uri": "https://localhost:8080/",
          "height": 731
        },
        "outputId": "815ef988-6a79-4238-9e6e-71ca47e7527b"
      },
      "source": [
        "from tensorflow.keras import optimizers\n",
        "model.compile(optimizer='SGD',\n",
        "              loss='categorical_crossentropy',\n",
        "              metrics=['categorical_accuracy'])\n",
        "train_num = training_set.samples\n",
        "valid_num = valid_set.samples\n",
        "\n",
        "history = model.fit(training_set,\n",
        "                         steps_per_epoch=train_num//batch_size,\n",
        "                         validation_data=valid_set,\n",
        "                         epochs=30,\n",
        "                         validation_steps=valid_num//batch_size,\n",
        "                         callbacks = [reduce_lr,es])"
      ],
      "execution_count": null,
      "outputs": [
        {
          "output_type": "stream",
          "text": [
            "Epoch 1/30\n",
            "175/175 [==============================] - 3167s 18s/step - loss: 0.4427 - categorical_accuracy: 0.8055 - val_loss: 0.3391 - val_categorical_accuracy: 0.8138\n",
            "Epoch 2/30\n",
            "175/175 [==============================] - 292s 2s/step - loss: 0.4461 - categorical_accuracy: 0.8006 - val_loss: 0.6470 - val_categorical_accuracy: 0.7625\n",
            "Epoch 3/30\n",
            "175/175 [==============================] - 291s 2s/step - loss: 0.4372 - categorical_accuracy: 0.8051 - val_loss: 0.6102 - val_categorical_accuracy: 0.7950\n",
            "Epoch 4/30\n",
            "175/175 [==============================] - 290s 2s/step - loss: 0.4431 - categorical_accuracy: 0.8094 - val_loss: 0.3642 - val_categorical_accuracy: 0.7987\n",
            "Epoch 5/30\n",
            "175/175 [==============================] - 291s 2s/step - loss: 0.4431 - categorical_accuracy: 0.8085 - val_loss: 0.3377 - val_categorical_accuracy: 0.8225\n",
            "Epoch 6/30\n",
            "175/175 [==============================] - 293s 2s/step - loss: 0.4370 - categorical_accuracy: 0.8044 - val_loss: 0.4559 - val_categorical_accuracy: 0.8300\n",
            "Epoch 7/30\n",
            "175/175 [==============================] - 294s 2s/step - loss: 0.4212 - categorical_accuracy: 0.8188 - val_loss: 0.2950 - val_categorical_accuracy: 0.8100\n",
            "Epoch 8/30\n",
            "175/175 [==============================] - 293s 2s/step - loss: 0.4258 - categorical_accuracy: 0.8091 - val_loss: 0.5271 - val_categorical_accuracy: 0.8025\n",
            "Epoch 9/30\n",
            "175/175 [==============================] - 298s 2s/step - loss: 0.4274 - categorical_accuracy: 0.8189 - val_loss: 0.6040 - val_categorical_accuracy: 0.8225\n",
            "Epoch 10/30\n",
            "175/175 [==============================] - 297s 2s/step - loss: 0.4278 - categorical_accuracy: 0.8103 - val_loss: 0.6535 - val_categorical_accuracy: 0.8263\n",
            "Epoch 11/30\n",
            "175/175 [==============================] - 299s 2s/step - loss: 0.4142 - categorical_accuracy: 0.8198 - val_loss: 0.3632 - val_categorical_accuracy: 0.8225\n",
            "Epoch 12/30\n",
            "175/175 [==============================] - 297s 2s/step - loss: 0.4335 - categorical_accuracy: 0.8119 - val_loss: 0.4332 - val_categorical_accuracy: 0.8225\n",
            "Epoch 13/30\n",
            "175/175 [==============================] - 296s 2s/step - loss: 0.4162 - categorical_accuracy: 0.8164 - val_loss: 0.4500 - val_categorical_accuracy: 0.8288\n",
            "Epoch 14/30\n",
            "175/175 [==============================] - 290s 2s/step - loss: 0.4134 - categorical_accuracy: 0.8227 - val_loss: 0.4341 - val_categorical_accuracy: 0.7875\n",
            "Epoch 15/30\n",
            "175/175 [==============================] - 290s 2s/step - loss: 0.4226 - categorical_accuracy: 0.8202 - val_loss: 0.4341 - val_categorical_accuracy: 0.8175\n",
            "Epoch 16/30\n",
            "175/175 [==============================] - 288s 2s/step - loss: 0.4015 - categorical_accuracy: 0.8256 - val_loss: 0.4247 - val_categorical_accuracy: 0.8275\n",
            "Epoch 17/30\n",
            "175/175 [==============================] - 287s 2s/step - loss: 0.4022 - categorical_accuracy: 0.8204 - val_loss: 0.2553 - val_categorical_accuracy: 0.8175\n",
            "Epoch 18/30\n",
            "175/175 [==============================] - 290s 2s/step - loss: 0.4007 - categorical_accuracy: 0.8248 - val_loss: 0.3373 - val_categorical_accuracy: 0.8225\n",
            "Epoch 19/30\n",
            "175/175 [==============================] - 291s 2s/step - loss: 0.4050 - categorical_accuracy: 0.8232 - val_loss: 0.3566 - val_categorical_accuracy: 0.8125\n",
            "Epoch 20/30\n",
            "157/175 [=========================>....] - ETA: 27s - loss: 0.3910 - categorical_accuracy: 0.8315"
          ],
          "name": "stdout"
        }
      ]
    },
    {
      "cell_type": "markdown",
      "metadata": {
        "id": "jmrs6-jHLYAN",
        "colab_type": "text"
      },
      "source": [
        "# draw"
      ]
    },
    {
      "cell_type": "code",
      "metadata": {
        "id": "K1uuzdqPm4CK",
        "colab_type": "code",
        "colab": {
          "base_uri": "https://localhost:8080/",
          "height": 655
        },
        "outputId": "afa2d704-31c8-44d9-c551-1d7f3997a304"
      },
      "source": [
        "import matplotlib.pyplot as plt\n",
        "import seaborn as sns\n",
        "sns.set()\n",
        "\n",
        "acc = history.history['categorical_accuracy']\n",
        "val_acc = history.history['val_categorical_accuracy']\n",
        "loss = history.history['loss']\n",
        "val_loss = history.history['val_loss']\n",
        "epochs = range(1, len(loss) + 1)\n",
        "\n",
        "x=0\n",
        "y=0\n",
        "for i in val_acc[-(len(epochs)//5):]:\n",
        "  x+=1\n",
        "  y+=i\n",
        "print(y/x)\n",
        "#accuracy plot\n",
        "plt.plot(epochs, acc, color='green', label='Training Accuracy')\n",
        "plt.plot(epochs, val_acc, color='blue', label='Validation Accuracy')\n",
        "plt.title('Training and Validation Accuracy')\n",
        "plt.ylabel('Accuracy')\n",
        "plt.xlabel('Epoch')\n",
        "plt.legend()\n",
        "\n",
        "plt.figure()\n",
        "#loss plot\n",
        "plt.plot(epochs, loss, color='pink', label='Training Loss')\n",
        "plt.plot(epochs, val_loss, color='red', label='Validation Loss')\n",
        "plt.title('Training and Validation Loss')\n",
        "plt.xlabel('Epoch')\n",
        "plt.ylabel('Loss')\n",
        "plt.legend()\n",
        "\n",
        "plt.show()\n"
      ],
      "execution_count": null,
      "outputs": [
        {
          "output_type": "stream",
          "text": [
            "/usr/local/lib/python3.6/dist-packages/statsmodels/tools/_testing.py:19: FutureWarning: pandas.util.testing is deprecated. Use the functions in the public API at pandas.testing instead.\n",
            "  import pandas.util.testing as tm\n"
          ],
          "name": "stderr"
        },
        {
          "output_type": "stream",
          "text": [
            "0.8092500030994415\n"
          ],
          "name": "stdout"
        },
        {
          "output_type": "display_data",
          "data": {
            "image/png": "[encoded data removed]",
            "text/plain": [
              "<Figure size 432x288 with 1 Axes>"
            ]
          },
          "metadata": {
            "tags": []
          }
        },
        {
          "output_type": "display_data",
          "data": {
            "image/png": "[encoded data removed]",
            "text/plain": [
              "<Figure size 432x288 with 1 Axes>"
            ]
          },
          "metadata": {
            "tags": []
          }
        }
      ]
    },
    {
      "cell_type": "code",
      "metadata": {
        "id": "6ScfDVq89aSG",
        "colab_type": "code",
        "colab": {
          "base_uri": "https://localhost:8080/",
          "height": 301
        },
        "outputId": "953fb4e1-5dcd-4ae8-c8ef-c1d87b98da71"
      },
      "source": [
        "plt.plot(epochs, history.history['val_categorical_accuracy'], color='pink', label='org')\n",
        "plt.plot(epochs, history_new.history['val_categorical_accuracy'], color='red', label='new')\n",
        "# plt.plot(epochs, history_gan2.history['val_categorical_accuracy'], color='blue', label='with no back gan')\n",
        "plt.title('augmentation')\n",
        "plt.xlabel('Epoch')\n",
        "plt.ylabel('accuracy')\n",
        "plt.legend()\n",
        "\n",
        "plt.show()"
      ],
      "execution_count": null,
      "outputs": [
        {
          "output_type": "display_data",
          "data": {
            "image/png": "[encoded data removed]",
            "text/plain": [
              "<Figure size 432x288 with 1 Axes>"
            ]
          },
          "metadata": {
            "tags": []
          }
        }
      ]
    },
    {
      "cell_type": "markdown",
      "metadata": {
        "id": "ArqWKKH7HsZs",
        "colab_type": "text"
      },
      "source": [
        "# write csv"
      ]
    },
    {
      "cell_type": "code",
      "metadata": {
        "id": "r40J-63EHvKA",
        "colab_type": "code",
        "colab": {}
      },
      "source": [
        "import numpy as np\n",
        "\n",
        "predict = model.predict_generator(test_generator,steps = nb_samples, verbose=1)\n",
        "\n",
        "csv_file = open(\"/content/drive/My Drive/data/test_example0.csv\",\"w\")\n",
        "csv_file.write(\"image_id,label\\n\")\n",
        "for filename, prediction in zip(filenames,predict):\n",
        "    name = filename.split(\"/\")\n",
        "    name = name[1]\n",
        "    label = np.where(prediction==max(prediction))\n",
        "    if label[0][0] == 0:\n",
        "      label = 'A'\n",
        "    elif label[0][0] == 1:\n",
        "      label = 'B'\n",
        "    elif label[0][0] == 2:\n",
        "      label = 'C'\n",
        "    csv_file.write(str(name)+\",\"+str(label)+\"\\n\")\n",
        "csv_file.close()"
      ],
      "execution_count": null,
      "outputs": []
    }
  ]
}